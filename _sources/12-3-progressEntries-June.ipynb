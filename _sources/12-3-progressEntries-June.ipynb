{
 "cells": [
  {
   "cell_type": "markdown",
   "id": "45db3710",
   "metadata": {},
   "source": [
    "# June 2020 Progress Entries\n",
    "## 6/21/20\n",
    "### Attendance: &#9744; Brody, &#9745; Derek, &#9744; Dylan, &#9744; Ian, &#9744; Jack\n",
    "Starting to work on a new robot design with CAD, the biggest advantage of this design over our previous robots is that it can score and de-score at the same time.\n",
    "We quickly ran into a problem with our current drive base as it is not designed to move the balls out of the goals and into the intakes. The main problem is the motors and a piece of c-channel that are blocking the balls from traveling in the robot. \n",
    "We fixed the problem with the motors blocking the balls by moving the front motor to above the back wheel, this fixes some of the problems but we will have to redesign the drive base if we want to continue using this robot design because of the structural support c-channel in the back that is blocking the balls.\n",
    "\n",
    "### Goals for new robot\n",
    "less than a second to score 3 balls in an empty goal\n",
    "less than 2 seconds to completely swap out a full goal\n",
    "less than a second to take a ball from the bottom to the top.\n",
    "\n",
    "### CAD of New Robot Design\n",
    "<img src=\"././_images/6-June/6-21-20/fullRobot.png\" alt=\"fullRobot.png\" style=\"width: 200px;\"/>\n",
    "<img src=\"././_images/6-June/6-21-20/newDrive.png\" alt=\"newDrive.png\" style=\"width: 200px; height: 135px;\"/>\n",
    "<img src=\"././_images/6-June/6-21-20/newIntakePosition.png\" alt=\"newIntakePosition.png\" style=\"width: 200px;\"/>\n",
    "<img src=\"././_images/6-June/6-21-20/newRobotFront.png\" alt=\"newRobotFront.png\" style=\"width: 200px; height: 150px;\"/>\n",
    "<img src=\"././_images/6-June/6-21-20/sideOfNewDrive.png\" alt=\"sideOfNewDrive.png\" style=\"width: 200px; height: 150px;\"/>\n",
    "\n",
    "## 6/25/20\n",
    "### Attendance: &#9744; Brody, &#9745; Derek, &#9744; Dylan, &#9744; Ian, &#9744; Jack\n",
    " Today the old CAD was redone and finished, with all the problems we were previously having we started over completely with a new drive base and intake system. \n",
    "The new drive base uses 3.25in omni wheels as they are closer to the ground so our intakes have more room above the wheels and will not interfere with each other. The wheels are geared 60:36 at 200rpm for an output rpm of 333rpm. This output rpm is slightly faster than our old drive base but the smaller wheels will give us more control at this speed.\n",
    "The new intakes swing out at the start of a match to ~5.15in outside of the 18in restriction or ~6.9in from the front of the robot (measured from the start of the drive base) This will give us enough space to start lifting the balls up in our robot quicker than before allowing us to put the drive motors in a normal place unlike our previous designs.\n",
    "Along with that the new intakes consist of 2 parts that are chained together, the first part can go fully into a goal to start descoring while the other moves the balls in to the rest of the robot, the chain that connects the two parts of the intake is laid in a way that it can go around the goal posts and will not get caught\n",
    "The new indexer/ball tower system has been redesigned to fit in with the new front intakes, It starts sooner on the robot so the motors do not have to move to a different location and is also protected from the goal by pieces of c-channel. The main difference between the old and new systems is that on the back of the robot, we now have two extra rollers that allow us to get rid of balls that we do not want by spinning the intake in reverse. We have also added a vision sensor to the front of the robot with future plans to automate this function. \n",
    "Programing of the new robot\n",
    "We have kept the inertial sensors and tracking wheels from the old drive base in the new robot so we can continue to develop those systems\n",
    "We have added a vision sensor to hopefully automate the sorting of balls. Whenever we start scoring on a goal the vision sensor can detect the goal and switch to manual sorting mode.\n",
    "\n",
    "### Completed CAD\n",
    "<img src=\"././_images/6-June/6-25-20/frontOfSnail.png\" alt=\"frontOfSnail.png\" style=\"width: 200px;\"/>\n",
    "<img src=\"././_images/6-June/6-25-20/newSnailSide.png\" alt=\"newSnailSide.png\" style=\"width: 200px;\"/>\n",
    "<img src=\"././_images/6-June/6-25-20/perspectiveSnail.png\" alt=\"perspectiveSnail.png\" style=\"width: 200px;\"/>\n",
    "<img src=\"././_images/6-June/6-25-20/snailOrtho.png\" alt=\"snailOrtho.png\" style=\"width: 200px;\"/>\n",
    "\n",
    "## 6/26/20\n",
    "### Attendance: &#9744; Brody, &#9745; Derek, &#9744; Dylan, &#9744; Ian, &#9744; Jack\n",
    "Changed the intakes on the new robot to better fit inside the size requirements. The old intakes could not fold up properly without majorly hitting the back wheels and they would stick out, this was fixed by changing the spacing on the intakes to lift them higher up so they stay above the wheels. We do not know how this change will impact picking up balls as we do not have a physical robot to test this on\n",
    "Fixed random things in cad \n",
    "There was chain missing on the first two front rollers\n",
    "There was no intake flaps on the front intakes\n",
    "Fixed standoffs not lining up properly with c-channel holes\n",
    "Fixed alignment of back U-channel \n",
    "Fixed cortex blocking the right intake motor from folding properly \n",
    "\n",
    "### Intake Changes\n",
    "<img src=\"././_images/6-June/6-26-20/intakeAngle.png\" alt=\"intakeAngle.png\" style=\"width: 200px;\"/>\n",
    "<img src=\"././_images/6-June/6-26-20/intakeSide.png\" alt=\"intakeSide.png\" style=\"width: 200px;\"/>\n",
    "\n",
    "## 6/28/20\n",
    "### Attendance: &#9744; Brody, &#9744; Derek, &#9744; Dylan, &#9744; Ian, &#9745; Jack\n",
    "We fixed the Auton Builder. It now stores the inputs from the GUI in independent global variables. The way the Auton Builder works is we press the goal that we want to go to, then the 2nd and 3rd goal we want to go to. After that when it switches to the Autonomous phase the robot knows it starting position and then runs the specific string of code needed to get from the starting position to the wanted goal, then it loops back in the code and based of the new position which is the 1st goal it figures it way to the 2nd goal. It then repeats this to get from the 2nd to the 3rd.\n",
    "\n",
    "```cpp\n",
    "\twhile(startPos == 0){ setStart(); arcChecker(); pros::delay(20);}\n",
    "   \twhile(firstPos == 0 && startPos !=0){ setFirst(); arcChecker(); pros::delay(20);}\n",
    "   \tpros::delay(500);\n",
    "   \twhile(secondPos == 0 && firstPos != 0){ setSecond();arcChecker(); pros::delay(20);}\n",
    "   \tpros::delay(500);\n",
    "   \twhile(thirdPos == 0 && secondPos != 0 && firstPos != 0){ setThird(); arcChecker(); pros::delay(20);}\n",
    " \tpros::delay(20);\n",
    "```"
   ]
  }
 ],
 "metadata": {
  "jupytext": {
   "cell_metadata_filter": "-all",
   "formats": "md:myst",
   "text_representation": {
    "extension": ".md",
    "format_name": "myst",
    "format_version": 0.12,
    "jupytext_version": "1.6.0"
   }
  },
  "kernelspec": {
   "display_name": "Python 3",
   "language": "python",
   "name": "python3"
  },
  "language_info": {
   "codemirror_mode": {
    "name": "ipython",
    "version": 3
   },
   "file_extension": ".py",
   "mimetype": "text/x-python",
   "name": "python",
   "nbconvert_exporter": "python",
   "pygments_lexer": "ipython3",
   "version": "3.8.10"
  },
  "source_map": [
   7
  ]
 },
 "nbformat": 4,
 "nbformat_minor": 5
}