{
 "cells": [
  {
   "cell_type": "markdown",
   "id": "45d70650",
   "metadata": {},
   "source": [
    "# Our Team Standards\n",
    "\n",
    "We have standards that we follow when doing anything and everything for robotics. For Building we follow the Engineering Design Process.\n",
    "\n",
    "```{figure} ././_images/beginning/designProcess.png\n",
    "---\n",
    "width: 500px\n",
    "name: designProcess.png\n",
    "---\n",
    "One example of the Engineering Design Process.\n",
    "```\n",
    "\n",
    "This photo accurately represents the general Engingeering Process, but we can explain it more specifically. \n",
    "During the *Research Ideas/Explore Possibilities* phase we will look at vexforum.com and reveal videos publicly posted on youtube to see if/what kinds of solutions have been published regarding the problem. During the *Make a Model or Prototype* phase we will first make a CAD of the idea to figure out the idea completley before spending resources on it. After this we will make the physical prototype. \n",
    "\n",
    "When programming we follow a routine we created called the **Whiteboard Routine**\n",
    "1. Write what you want to achieve on the whiteboard\n",
    "2. Write the general logic for that problem on the whiteboard\n",
    "3. Transfer the logic from the whiteboard to PROS and download the code to the robot\n",
    "4. Debug the code by logging what it achieves and doesn't achieve on the whiteboard\n",
    "  \n",
    "   >  Rubberduck the code if needed.\n",
    "\n",
    "5. Rewrite any new logic on the whiteboard and then into the program.\n",
    "6. Repeat the last two points until the code achieves what we want.\n",
    "\n",
    "```{important}\n",
    "Last Edited on 8/31/21.\n",
    "```"
   ]
  }
 ],
 "metadata": {
  "jupytext": {
   "cell_metadata_filter": "-all",
   "formats": "md:myst",
   "text_representation": {
    "extension": ".md",
    "format_name": "myst",
    "format_version": 0.12,
    "jupytext_version": "1.6.0"
   }
  },
  "kernelspec": {
   "display_name": "Python 3",
   "language": "python",
   "name": "python3"
  },
  "language_info": {
   "codemirror_mode": {
    "name": "ipython",
    "version": 3
   },
   "file_extension": ".py",
   "mimetype": "text/x-python",
   "name": "python",
   "nbconvert_exporter": "python",
   "pygments_lexer": "ipython3",
   "version": "3.8.10"
  },
  "source_map": [
   7
  ]
 },
 "nbformat": 4,
 "nbformat_minor": 5
}