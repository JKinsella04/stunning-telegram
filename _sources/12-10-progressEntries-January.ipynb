{
 "cells": [
  {
   "cell_type": "markdown",
   "id": "1a4cc985",
   "metadata": {},
   "source": [
    "# January 2021 Progress Entries\n",
    "## January Timeline\n",
    "<img src=\"././_images/1-January/jan_calendar.PNG\" alt=\"January_calendar.png\"/>\n",
    "\n",
    "### Completed Goals\n",
    "- 15 second auton routine\n",
    "\n",
    "### Remaing goals for West Ashley Tournament\n",
    "- 60 second auton routine \n",
    "- 126 driver skills \n",
    "- Autonomous rotine with 3859W\n",
    "\n",
    "## 1/5/2021\n",
    "### Attendance: &#9744; Brody, &#9745; Derek, &#9745; Dylan, &#9744; Ian, &#9745; Jack\n",
    "Today we revised our slew code for our lateral movements. Our previous slew code was linear and we passed the rate that served as the slope of the slew code. We wanted to redo our slew code because we found it to be too slow at the beginning and that it accelerates too fast at the end. Kent from team 901J, a team from Japan was nice enough to show us a limit function that works similar to our needs. Upon testing this code we are very happy with it's performance as it fixes the problems we had with our pure linear approach. It is faster as the beginning but becomes weaker at the half way mark. In addition to revising our slew code we also moved our drive base gears, motors and, wheels by two holes. We did this because we needed more room for the intakes to enter the middle goal. With the wheels at their original position, the intakes could not reach far in enough to descore a ball from the middle goal but with this change to our wheel position, we are now able to descore the middle goal. \n",
    "\n",
    "<img src=\"././_images/1-January/1-5-21/new_slew_code.PNG\" alt=\"new_slew_code.PNG\" style=\"width: 200px;\"/>\n",
    "<img src=\"././_images/1-January/1-5-21/new_drive_base.PNG\" alt=\"new_drive_base.PNG\" style=\"width: 200px;\"/>\n",
    "<img src=\"././_images/1-January/1-5-21/new_drive_base_top.png\" alt=\"new_drive_base_top.png\" style=\"width: 200px;\"/>\n",
    "\n",
    "## 1/12/2021\n",
    "### Attendance: &#9745; Brody, &#9745; Derek, &#9744; Dylan, &#9745; Ian, &#9745; Jack\n",
    "Today we spent the majority of practice working on Driver Skills. We decided to approach our driver skills run with a new path so we would be able to get a max score. In addition we also began creating multiple strategies for the tournament matches. We came up with 2 main strategies as well as a couple other back up plans.\n",
    "#### Hourglass Strategy\n",
    "<img src=\"././_images/1-January/1-12-21/hourglass_Strategy.PNG\" alt=\"hourglass_Strategy.PNG\" style=\"width: 200px;\"/>\n",
    "\n",
    "The hourglass is a strategy that consists of our alliance controlling 7 of the 9 goals. We control the bottom and top rows plus the center goal. This plan is good as long as a couple requirements are met before. First off it requires that both both us and our teammate have capable robots since we are both going to be controlling 4 goals independently for the entire match, and it also requires that we win the autonomous phase since this strategy is playing to maximize the 17-16 win.\n",
    "#### Circle Strategy\n",
    "<img src=\"././_images/1-January/1-12-21/circle_Strategy.PNG\" alt=\"circle_Strategy.PNG\" style=\"width: 200px;\"/>\n",
    "\n",
    "The circle strategy is our second main strategy and is a pretty simple strategy. The strategy is that after our autonomous finishes we begin moving in a counter clockwise circle descoring every goal and making sure it only has our color ball and then moving on to the next one. This strategy is better for when our teammate is weaker because it allows them to be able to focus more on guarding with minimal scoring. This strategy can be categorized into two different sub-categories based off how our teammate drives. Either they can be offensive focused and also go in a circle trailing behind us to make sure they stay in our control or they can be more defense focused and either focus a zone or a specific enemy robot based on the needs of the match. \n",
    "#### 17-16 win\n",
    "<img src=\"././_images/1-January/1-12-21/17-16_Strategy.PNG\" alt=\"17-16_Strategy.PNG\" style=\"width: 200px;\"/>\n",
    "\n",
    "The 17-16 win is the bare minimum that guarentees a win for the team that won the autonomous round. If you win the autonomous round all you need to do to win the match is score 5 balls and control one cross row. Doing this will give you a score of 17 and will also restrict the opposing alliance to a maximum score of 16 since your row will restrict them from being able to connect any rows and so even if they score every one of their balls it will not be enough to make up for the autonomous bonus.\n",
    "\n",
    "#### 6-3 Strategy\n",
    "<img src=\"././_images/1-January/1-12-21/6-3_Strategy.PNG\" alt=\"6-3_Strategy.PNG\" style=\"width: 200px;\"/>\n",
    "\n",
    "The 6-3 strategy is where we split the field vertically into two where we manage the enemy's home row and the middle row while our teammate manages our home row. We came up with this strategy because we wanted a strategy where we control all goals without running into the possibility of getting in the way of our teammate like we might in the circle strategy.\n",
    "\n",
    "#### Triangle Strategy\n",
    "<img src=\"././_images/1-January/1-12-21/triangle_Strategy.PNG\" alt=\"triangle_Strategy.PNG\" style=\"width: 200px;\"/>\n",
    "\n",
    "The triangle strategy is very similar to the 6-3 strategy as it follows the same logic just with the field being partitioned differentely. In the triangle strategy we cut the field accross the diagonal starting from the top right goal (Goal C) to the bottom left (Goal G). We then manage the left triangle which is comprised of goals A,B,C,D,E,G. \n",
    "\n",
    "#### Square Strategy\n",
    "<img src=\"././_images/1-January/1-12-21/square_Strategy.PNG\" alt=\"square_Strategy.PNG\" style=\"width: 200px;\"/>\n",
    "\n",
    "The square strategy is one that we are very interested in seeing how effective it will be. It involves us leaving one diagonal completely uncontested in the enemy's favor which could turn out to be quite bad for us since if they get the diagonal row we would not be able to have any connections. For this strategy we manage the two bottom left goals in the enemy's home row and then the bottom two middle goals. Then our alliance partner will control the 4 goals opposite of us so we have control of one of the two diagonals.\n",
    "\n",
    "## 1/19/21\n",
    "### Attendance: &#9745; Brody, &#9745; Derek, &#9744; Dylan, &#9745; Ian, &#9745; Jack\n",
    "Today we got two V5 rotation sensors to replace our V4 motor encoders. These sensors are built slightly different from the V4 motor encoders so we had to slightly redesign the connection point for the tracking wheels. The reason we got the new sensors was because we wanted to test which sensor would be more consistent for tracking our robot during autonomous. We will be using the new V5 rotation sensors for our next competition to see if they are able to survive a competition without becoming innacurate. To help with our robot's cycling through goals, we added a goal pusher that pushes the ring of the goal up a little bit so the ball is controlled by the intakes better. This helped with our cycling speed since we no longer need to go back and forth to be able to properly take the balls from the goals. \n",
    "\n",
    "<img src=\"././_images/1-January/1-19-21/new_Tracking_Wheels.PNG\" alt=\"new_Tracking_Wheels.PNG\" style=\"width: 200px;\"/>\n",
    "<img src=\"././_images/1-January/1-19-21/goal_Pusher.PNG\" alt=\"goal_Pusher.PNG\" style=\"width: 200px;\"/>\n",
    "\n",
    "## 1/26/21\n",
    "### Attendance: &#9744; Brody, &#9744; Derek, &#9744; Dylan, &#9744; Ian, &#9745; Jack\n",
    "Today we wanted to improve our cycle time for our robot. To do this we increased the rpm of our top roller from around 560 rpm to 780 rpm. From increasing our rpm we are now able to shoot the ball farther and faster. We now shoot the ball too fast to where the ball spends too much time at the top of the goal spinning until it slows down to fall down into the goal. To fix this problem, we added a backboard to our robot that works as a guide for the ball so when we shoot it will hit our backboard and fall straight into the goal. This change in conjunction with the increased rpm allows us to have a much faster cycle time so we can score and descore much faster than before. In addition to these changes we also automated more of our driver control. Our new mapping is as follows, R1 goalSort, R2 reverse, and L1 `ballsLeft++;` The main new additions are that the robot always runs autoSort unless R1 or R2 are pressed and L1 which adds one to the variable ballsLeft. When we run goalSort the robot will cycle and sort out the enemy's balls until ballsLeft equals 0. Once all of the enemy's balls are sorted out of the robot, we stop spinning the intakes so we do not pull out any of our own balls. Our final accomplishment is that we redid our autonomous with 3859W. Our new auton routine has us doing our home row while 3859W does the middle goal and the middle right goal. \n",
    "\n",
    "<iframe width=\"560\" height=\"315\" src=\"https://www.youtube.com/embed/iTFQptQrj4k\" frameborder=\"0\" allow=\"accelerometer; autoplay; clipboard-write; encrypted-media; gyroscope; picture-in-picture\" allowfullscreen></iframe>"
   ]
  },
  {
   "cell_type": "code",
   "execution_count": null,
   "id": "6a510e8a",
   "metadata": {},
   "outputs": [],
   "source": []
  }
 ],
 "metadata": {
  "jupytext": {
   "cell_metadata_filter": "-all",
   "formats": "md:myst",
   "text_representation": {
    "extension": ".md",
    "format_name": "myst",
    "format_version": 0.12,
    "jupytext_version": "1.6.0"
   }
  },
  "kernelspec": {
   "display_name": "Python 3",
   "language": "python",
   "name": "python3"
  },
  "language_info": {
   "codemirror_mode": {
    "name": "ipython",
    "version": 3
   },
   "file_extension": ".py",
   "mimetype": "text/x-python",
   "name": "python",
   "nbconvert_exporter": "python",
   "pygments_lexer": "ipython3",
   "version": "3.8.10"
  },
  "source_map": [
   7,
   73
  ]
 },
 "nbformat": 4,
 "nbformat_minor": 5
}